{
 "cells": [
  {
   "cell_type": "code",
   "execution_count": 1,
   "id": "08a4c604",
   "metadata": {},
   "outputs": [],
   "source": [
    "# Day 1: Data Loading & Cleaning\n",
    "\n",
    "import pandas as pd\n",
    "import os\n",
    "\n",
    "# Ensure data folder exists\n",
    "os.makedirs(\"../data\", exist_ok=True)"
   ]
  },
  {
   "cell_type": "code",
   "execution_count": 4,
   "id": "68d368d7",
   "metadata": {},
   "outputs": [
    {
     "name": "stdout",
     "output_type": "stream",
     "text": [
      "Dataset Shape: (541909, 10)\n"
     ]
    },
    {
     "data": {
      "text/html": [
       "<div>\n",
       "<style scoped>\n",
       "    .dataframe tbody tr th:only-of-type {\n",
       "        vertical-align: middle;\n",
       "    }\n",
       "\n",
       "    .dataframe tbody tr th {\n",
       "        vertical-align: top;\n",
       "    }\n",
       "\n",
       "    .dataframe thead th {\n",
       "        text-align: right;\n",
       "    }\n",
       "</style>\n",
       "<table border=\"1\" class=\"dataframe\">\n",
       "  <thead>\n",
       "    <tr style=\"text-align: right;\">\n",
       "      <th></th>\n",
       "      <th>ï»¿InvoiceNo</th>\n",
       "      <th>InvoiceDate</th>\n",
       "      <th>InvoiceTime</th>\n",
       "      <th>StockCode</th>\n",
       "      <th>Description</th>\n",
       "      <th>Quantity</th>\n",
       "      <th>UnitPrice</th>\n",
       "      <th>Totalsale</th>\n",
       "      <th>CustomerID</th>\n",
       "      <th>Country</th>\n",
       "    </tr>\n",
       "  </thead>\n",
       "  <tbody>\n",
       "    <tr>\n",
       "      <th>0</th>\n",
       "      <td>536365</td>\n",
       "      <td>01-12-2010</td>\n",
       "      <td>08:26:00 AM</td>\n",
       "      <td>85123A</td>\n",
       "      <td>WHITE HANGING HEART T-LIGHT HOLDER</td>\n",
       "      <td>6</td>\n",
       "      <td>2.55</td>\n",
       "      <td>15.30</td>\n",
       "      <td>17850.0</td>\n",
       "      <td>United Kingdom</td>\n",
       "    </tr>\n",
       "    <tr>\n",
       "      <th>1</th>\n",
       "      <td>536365</td>\n",
       "      <td>01-12-2010</td>\n",
       "      <td>08:26:00 AM</td>\n",
       "      <td>71053</td>\n",
       "      <td>WHITE METAL LANTERN</td>\n",
       "      <td>6</td>\n",
       "      <td>3.39</td>\n",
       "      <td>20.34</td>\n",
       "      <td>17850.0</td>\n",
       "      <td>United Kingdom</td>\n",
       "    </tr>\n",
       "    <tr>\n",
       "      <th>2</th>\n",
       "      <td>536365</td>\n",
       "      <td>01-12-2010</td>\n",
       "      <td>08:26:00 AM</td>\n",
       "      <td>84406B</td>\n",
       "      <td>CREAM CUPID HEARTS COAT HANGER</td>\n",
       "      <td>8</td>\n",
       "      <td>2.75</td>\n",
       "      <td>22.00</td>\n",
       "      <td>17850.0</td>\n",
       "      <td>United Kingdom</td>\n",
       "    </tr>\n",
       "    <tr>\n",
       "      <th>3</th>\n",
       "      <td>536365</td>\n",
       "      <td>01-12-2010</td>\n",
       "      <td>08:26:00 AM</td>\n",
       "      <td>84029G</td>\n",
       "      <td>KNITTED UNION FLAG HOT WATER BOTTLE</td>\n",
       "      <td>6</td>\n",
       "      <td>3.39</td>\n",
       "      <td>20.34</td>\n",
       "      <td>17850.0</td>\n",
       "      <td>United Kingdom</td>\n",
       "    </tr>\n",
       "    <tr>\n",
       "      <th>4</th>\n",
       "      <td>536365</td>\n",
       "      <td>01-12-2010</td>\n",
       "      <td>08:26:00 AM</td>\n",
       "      <td>84029E</td>\n",
       "      <td>RED WOOLLY HOTTIE WHITE HEART.</td>\n",
       "      <td>6</td>\n",
       "      <td>3.39</td>\n",
       "      <td>20.34</td>\n",
       "      <td>17850.0</td>\n",
       "      <td>United Kingdom</td>\n",
       "    </tr>\n",
       "  </tbody>\n",
       "</table>\n",
       "</div>"
      ],
      "text/plain": [
       "  ï»¿InvoiceNo InvoiceDate  InvoiceTime StockCode  \\\n",
       "0       536365  01-12-2010  08:26:00 AM    85123A   \n",
       "1       536365  01-12-2010  08:26:00 AM     71053   \n",
       "2       536365  01-12-2010  08:26:00 AM    84406B   \n",
       "3       536365  01-12-2010  08:26:00 AM    84029G   \n",
       "4       536365  01-12-2010  08:26:00 AM    84029E   \n",
       "\n",
       "                           Description  Quantity  UnitPrice  Totalsale  \\\n",
       "0   WHITE HANGING HEART T-LIGHT HOLDER         6       2.55      15.30   \n",
       "1                  WHITE METAL LANTERN         6       3.39      20.34   \n",
       "2       CREAM CUPID HEARTS COAT HANGER         8       2.75      22.00   \n",
       "3  KNITTED UNION FLAG HOT WATER BOTTLE         6       3.39      20.34   \n",
       "4       RED WOOLLY HOTTIE WHITE HEART.         6       3.39      20.34   \n",
       "\n",
       "   CustomerID         Country  \n",
       "0     17850.0  United Kingdom  \n",
       "1     17850.0  United Kingdom  \n",
       "2     17850.0  United Kingdom  \n",
       "3     17850.0  United Kingdom  \n",
       "4     17850.0  United Kingdom  "
      ]
     },
     "execution_count": 4,
     "metadata": {},
     "output_type": "execute_result"
    }
   ],
   "source": [
    "# File path (adjust if needed)\n",
    "file_path = \"../data/OnlineRetail.csv\"\n",
    "\n",
    "# Load dataset with proper encoding\n",
    "df = pd.read_csv(file_path, encoding='unicode_escape')\n",
    "\n",
    "# Initial look\n",
    "print(\"Dataset Shape:\", df.shape)\n",
    "df.head()\n"
   ]
  },
  {
   "cell_type": "code",
   "execution_count": 5,
   "id": "c432779b",
   "metadata": {},
   "outputs": [
    {
     "name": "stdout",
     "output_type": "stream",
     "text": [
      "<class 'pandas.core.frame.DataFrame'>\n",
      "RangeIndex: 541909 entries, 0 to 541908\n",
      "Data columns (total 10 columns):\n",
      " #   Column        Non-Null Count   Dtype  \n",
      "---  ------        --------------   -----  \n",
      " 0   ï»¿InvoiceNo  541909 non-null  object \n",
      " 1   InvoiceDate   541909 non-null  object \n",
      " 2   InvoiceTime   541909 non-null  object \n",
      " 3   StockCode     541909 non-null  object \n",
      " 4   Description   540455 non-null  object \n",
      " 5   Quantity      541909 non-null  int64  \n",
      " 6   UnitPrice     541909 non-null  float64\n",
      " 7   Totalsale     541909 non-null  float64\n",
      " 8   CustomerID    406829 non-null  float64\n",
      " 9   Country       541909 non-null  object \n",
      "dtypes: float64(3), int64(1), object(6)\n",
      "memory usage: 41.3+ MB\n",
      "\n",
      "Missing Values:\n",
      " ï»¿InvoiceNo         0\n",
      "InvoiceDate          0\n",
      "InvoiceTime          0\n",
      "StockCode            0\n",
      "Description       1454\n",
      "Quantity             0\n",
      "UnitPrice            0\n",
      "Totalsale            0\n",
      "CustomerID      135080\n",
      "Country              0\n",
      "dtype: int64\n"
     ]
    },
    {
     "data": {
      "text/html": [
       "<div>\n",
       "<style scoped>\n",
       "    .dataframe tbody tr th:only-of-type {\n",
       "        vertical-align: middle;\n",
       "    }\n",
       "\n",
       "    .dataframe tbody tr th {\n",
       "        vertical-align: top;\n",
       "    }\n",
       "\n",
       "    .dataframe thead th {\n",
       "        text-align: right;\n",
       "    }\n",
       "</style>\n",
       "<table border=\"1\" class=\"dataframe\">\n",
       "  <thead>\n",
       "    <tr style=\"text-align: right;\">\n",
       "      <th></th>\n",
       "      <th>Quantity</th>\n",
       "      <th>UnitPrice</th>\n",
       "      <th>Totalsale</th>\n",
       "      <th>CustomerID</th>\n",
       "    </tr>\n",
       "  </thead>\n",
       "  <tbody>\n",
       "    <tr>\n",
       "      <th>count</th>\n",
       "      <td>541909.000000</td>\n",
       "      <td>541909.000000</td>\n",
       "      <td>541909.000000</td>\n",
       "      <td>406829.000000</td>\n",
       "    </tr>\n",
       "    <tr>\n",
       "      <th>mean</th>\n",
       "      <td>9.552250</td>\n",
       "      <td>4.611114</td>\n",
       "      <td>17.987795</td>\n",
       "      <td>15287.690570</td>\n",
       "    </tr>\n",
       "    <tr>\n",
       "      <th>std</th>\n",
       "      <td>218.081158</td>\n",
       "      <td>96.759853</td>\n",
       "      <td>378.810824</td>\n",
       "      <td>1713.600303</td>\n",
       "    </tr>\n",
       "    <tr>\n",
       "      <th>min</th>\n",
       "      <td>-80995.000000</td>\n",
       "      <td>-11062.060000</td>\n",
       "      <td>-168469.600000</td>\n",
       "      <td>12346.000000</td>\n",
       "    </tr>\n",
       "    <tr>\n",
       "      <th>25%</th>\n",
       "      <td>1.000000</td>\n",
       "      <td>1.250000</td>\n",
       "      <td>3.400000</td>\n",
       "      <td>13953.000000</td>\n",
       "    </tr>\n",
       "    <tr>\n",
       "      <th>50%</th>\n",
       "      <td>3.000000</td>\n",
       "      <td>2.080000</td>\n",
       "      <td>9.750000</td>\n",
       "      <td>15152.000000</td>\n",
       "    </tr>\n",
       "    <tr>\n",
       "      <th>75%</th>\n",
       "      <td>10.000000</td>\n",
       "      <td>4.130000</td>\n",
       "      <td>17.400000</td>\n",
       "      <td>16791.000000</td>\n",
       "    </tr>\n",
       "    <tr>\n",
       "      <th>max</th>\n",
       "      <td>80995.000000</td>\n",
       "      <td>38970.000000</td>\n",
       "      <td>168469.600000</td>\n",
       "      <td>18287.000000</td>\n",
       "    </tr>\n",
       "  </tbody>\n",
       "</table>\n",
       "</div>"
      ],
      "text/plain": [
       "            Quantity      UnitPrice      Totalsale     CustomerID\n",
       "count  541909.000000  541909.000000  541909.000000  406829.000000\n",
       "mean        9.552250       4.611114      17.987795   15287.690570\n",
       "std       218.081158      96.759853     378.810824    1713.600303\n",
       "min    -80995.000000  -11062.060000 -168469.600000   12346.000000\n",
       "25%         1.000000       1.250000       3.400000   13953.000000\n",
       "50%         3.000000       2.080000       9.750000   15152.000000\n",
       "75%        10.000000       4.130000      17.400000   16791.000000\n",
       "max     80995.000000   38970.000000  168469.600000   18287.000000"
      ]
     },
     "execution_count": 5,
     "metadata": {},
     "output_type": "execute_result"
    }
   ],
   "source": [
    "# Info about columns and data types\n",
    "df.info()\n",
    "\n",
    "# Missing values check\n",
    "print(\"\\nMissing Values:\\n\", df.isnull().sum())\n",
    "\n",
    "# Basic statistics for numeric columns\n",
    "df.describe()\n"
   ]
  },
  {
   "cell_type": "code",
   "execution_count": 25,
   "id": "9045b625",
   "metadata": {},
   "outputs": [
    {
     "name": "stdout",
     "output_type": "stream",
     "text": [
      "['invoiceno', 'invoicedate', 'invoicetime', 'stockcode', 'description', 'quantity', 'unitprice', 'totalsale', 'customerid', 'country']\n",
      "After removing cancellations: (532621, 10)\n"
     ]
    }
   ],
   "source": [
    "import pandas as pd\n",
    "\n",
    "# 1. Load with encoding fix\n",
    "file_path = \"../data/OnlineRetail.csv\"  # Adjust path if needed\n",
    "df = pd.read_csv(file_path, encoding=\"utf-8-sig\")\n",
    "\n",
    "# 2. Clean column names\n",
    "df.columns = df.columns.str.strip().str.lower().str.replace(\" \", \"_\")\n",
    "\n",
    "# 3. Check column names\n",
    "print(df.columns.tolist())\n",
    "\n",
    "# 4. Remove cancelled orders\n",
    "df = df[~df['invoiceno'].astype(str).str.startswith('C')]\n",
    "\n",
    "print(\"After removing cancellations:\", df.shape)\n"
   ]
  },
  {
   "cell_type": "code",
   "execution_count": 36,
   "id": "85cc9dcc",
   "metadata": {},
   "outputs": [
    {
     "name": "stdout",
     "output_type": "stream",
     "text": [
      "['invoiceno', 'invoicedate', 'invoicetime', 'stockcode', 'description', 'quantity', 'unitprice', 'totalsale', 'customerid', 'country']\n"
     ]
    }
   ],
   "source": [
    "print(df.columns.tolist())\n"
   ]
  },
  {
   "cell_type": "code",
   "execution_count": 40,
   "id": "2d0a5347",
   "metadata": {},
   "outputs": [],
   "source": [
    "# Ensure df is an independent copy\n",
    "df = df.copy()\n",
    "\n",
    "# Rename column and drop missing CustomerIDs\n",
    "df.rename(columns={\"customerid\": \"CustomerID\"}, inplace=True)\n",
    "df = df.dropna(subset=[\"CustomerID\"])\n"
   ]
  },
  {
   "cell_type": "code",
   "execution_count": 44,
   "id": "ef184e36",
   "metadata": {},
   "outputs": [],
   "source": [
    "df[\"InvoiceDateTime\"] = pd.to_datetime(\n",
    "    df[\"invoicedate\"] + \" \" + df[\"invoicetime\"], \n",
    "    dayfirst=True\n",
    ")\n"
   ]
  },
  {
   "cell_type": "code",
   "execution_count": 45,
   "id": "951445e9",
   "metadata": {},
   "outputs": [],
   "source": [
    "df[\"TotalPrice\"] = df[\"quantity\"] * df[\"unitprice\"]\n"
   ]
  },
  {
   "cell_type": "code",
   "execution_count": 55,
   "id": "c8578b13",
   "metadata": {},
   "outputs": [
    {
     "name": "stdout",
     "output_type": "stream",
     "text": [
      "['invoiceno', 'invoicedate', 'invoicetime', 'stockcode', 'description', 'quantity', 'unitprice', 'totalsale', 'customerid', 'country', 'InvoiceDateTime', 'TotalPrice']\n"
     ]
    }
   ],
   "source": [
    "print(df.columns.tolist())\n"
   ]
  },
  {
   "cell_type": "code",
   "execution_count": 58,
   "id": "b61db972",
   "metadata": {},
   "outputs": [
    {
     "name": "stdout",
     "output_type": "stream",
     "text": [
      "   CustomerID  Recency  Frequency  Monetary\n",
      "0     12346.0      326          1  77183.60\n",
      "1     12347.0        3          7   4310.00\n",
      "2     12348.0       76          4   1797.24\n",
      "3     12349.0       19          1   1757.55\n",
      "4     12350.0      311          1    334.40\n"
     ]
    }
   ],
   "source": [
    "# Drop rows with missing customer IDs\n",
    "df = df.dropna(subset=[\"customerid\"])\n",
    "\n",
    "# Set reference date (one day after the latest purchase date)\n",
    "reference_date = df[\"invoicedate\"].max() + pd.Timedelta(days=1)\n",
    "\n",
    "# Compute RFM\n",
    "rfm = df.groupby(\"customerid\").agg({\n",
    "    \"invoicedate\": lambda x: (reference_date - x.max()).days,  # Recency\n",
    "    \"invoiceno\": \"nunique\",                                   # Frequency\n",
    "    \"totalsale\": \"sum\"                                        # Monetary\n",
    "}).reset_index()\n",
    "\n",
    "# Rename columns for clarity\n",
    "rfm.columns = [\"CustomerID\", \"Recency\", \"Frequency\", \"Monetary\"]\n",
    "\n",
    "print(rfm.head())\n"
   ]
  },
  {
   "cell_type": "code",
   "execution_count": 59,
   "id": "eaf9ddfc",
   "metadata": {},
   "outputs": [
    {
     "name": "stdout",
     "output_type": "stream",
     "text": [
      "   CustomerID  Recency  Frequency  Monetary R_Score F_Score M_Score  \\\n",
      "0     12346.0      326          1  77183.60       1       1       5   \n",
      "1     12347.0        3          7   4310.00       5       5       5   \n",
      "2     12348.0       76          4   1797.24       2       4       4   \n",
      "3     12349.0       19          1   1757.55       4       1       4   \n",
      "4     12350.0      311          1    334.40       1       1       2   \n",
      "\n",
      "  RFM_Segment  RFM_Score  \n",
      "0         115          7  \n",
      "1         555         15  \n",
      "2         244         10  \n",
      "3         414          9  \n",
      "4         112          4  \n"
     ]
    }
   ],
   "source": [
    "# RFM Scoring\n",
    "rfm[\"R_Score\"] = pd.qcut(rfm[\"Recency\"], 5, labels=[5, 4, 3, 2, 1])  # Lower Recency → Higher Score\n",
    "rfm[\"F_Score\"] = pd.qcut(rfm[\"Frequency\"].rank(method=\"first\"), 5, labels=[1, 2, 3, 4, 5])  # Higher Frequency → Higher Score\n",
    "rfm[\"M_Score\"] = pd.qcut(rfm[\"Monetary\"], 5, labels=[1, 2, 3, 4, 5])  # Higher Monetary → Higher Score\n",
    "\n",
    "# Combine into RFM_Segment\n",
    "rfm[\"RFM_Segment\"] = (\n",
    "    rfm[\"R_Score\"].astype(str) + \n",
    "    rfm[\"F_Score\"].astype(str) + \n",
    "    rfm[\"M_Score\"].astype(str)\n",
    ")\n",
    "\n",
    "# Calculate an overall RFM score\n",
    "rfm[\"RFM_Score\"] = (\n",
    "    rfm[\"R_Score\"].astype(int) + \n",
    "    rfm[\"F_Score\"].astype(int) + \n",
    "    rfm[\"M_Score\"].astype(int)\n",
    ")\n",
    "\n",
    "print(rfm.head())\n"
   ]
  },
  {
   "cell_type": "code",
   "execution_count": 60,
   "id": "bf2b845f",
   "metadata": {},
   "outputs": [
    {
     "name": "stdout",
     "output_type": "stream",
     "text": [
      "   CustomerID  Recency  Frequency  Monetary R_Score F_Score M_Score  \\\n",
      "0     12346.0      326          1  77183.60       1       1       5   \n",
      "1     12347.0        3          7   4310.00       5       5       5   \n",
      "2     12348.0       76          4   1797.24       2       4       4   \n",
      "3     12349.0       19          1   1757.55       4       1       4   \n",
      "4     12350.0      311          1    334.40       1       1       2   \n",
      "\n",
      "  RFM_Segment  RFM_Score     Customer_Segment  \n",
      "0         115          7  Potential Loyalists  \n",
      "1         555         15            Champions  \n",
      "2         244         10      Loyal Customers  \n",
      "3         414          9  Potential Loyalists  \n",
      "4         112          4       Lost Customers  \n"
     ]
    }
   ],
   "source": [
    "# Define RFM categories\n",
    "def rfm_category(row):\n",
    "    if row['RFM_Score'] >= 13:\n",
    "        return 'Champions'  # Recent, frequent, high spenders\n",
    "    elif row['RFM_Score'] >= 10:\n",
    "        return 'Loyal Customers'  # Frequent buyers, good spenders\n",
    "    elif row['RFM_Score'] >= 7:\n",
    "        return 'Potential Loyalists'  # New or infrequent but high spenders\n",
    "    elif row['RFM_Score'] >= 5:\n",
    "        return 'At Risk'  # Haven’t purchased recently\n",
    "    else:\n",
    "        return 'Lost Customers'  # Inactive and low value\n",
    "\n",
    "# Apply function\n",
    "rfm['Customer_Segment'] = rfm.apply(rfm_category, axis=1)\n",
    "\n",
    "print(rfm.head())\n"
   ]
  },
  {
   "cell_type": "code",
   "execution_count": 61,
   "id": "f1fbb2e6",
   "metadata": {},
   "outputs": [
    {
     "name": "stdout",
     "output_type": "stream",
     "text": [
      "      Customer_Segment  Count\n",
      "0  Potential Loyalists   1090\n",
      "1      Loyal Customers   1009\n",
      "2            Champions    931\n",
      "3              At Risk    765\n",
      "4       Lost Customers    544\n"
     ]
    }
   ],
   "source": [
    "segment_summary = rfm['Customer_Segment'].value_counts().reset_index()\n",
    "segment_summary.columns = ['Customer_Segment', 'Count']\n",
    "print(segment_summary)\n"
   ]
  },
  {
   "cell_type": "code",
   "execution_count": 62,
   "id": "3060cf34",
   "metadata": {},
   "outputs": [
    {
     "data": {
      "image/png": "[encoded data removed]",
      "text/plain": [
       "<Figure size 800x500 with 1 Axes>"
      ]
     },
     "metadata": {},
     "output_type": "display_data"
    }
   ],
   "source": [
    "import matplotlib.pyplot as plt\n",
    "\n",
    "plt.figure(figsize=(8,5))\n",
    "rfm['Customer_Segment'].value_counts().plot(kind='bar', color='skyblue', edgecolor='black')\n",
    "plt.title('Customer Segmentation (RFM)', fontsize=14)\n",
    "plt.xlabel('Customer Segment')\n",
    "plt.ylabel('Number of Customers')\n",
    "plt.xticks(rotation=45)\n",
    "plt.show()\n"
   ]
  },
  {
   "cell_type": "code",
   "execution_count": 63,
   "id": "5dbb4a40",
   "metadata": {},
   "outputs": [],
   "source": [
    "rfm.to_csv(\"RFM_Customer_Segmentation.csv\", index=False)\n"
   ]
  },
  {
   "cell_type": "code",
   "execution_count": null,
   "id": "13b5f40c",
   "metadata": {},
   "outputs": [],
   "source": []
  }
 ],
 "metadata": {
  "kernelspec": {
   "display_name": "Python 3",
   "language": "python",
   "name": "python3"
  },
  "language_info": {
   "codemirror_mode": {
    "name": "ipython",
    "version": 3
   },
   "file_extension": ".py",
   "mimetype": "text/x-python",
   "name": "python",
   "nbconvert_exporter": "python",
   "pygments_lexer": "ipython3",
   "version": "3.13.1"
  }
 },
 "nbformat": 4,
 "nbformat_minor": 5
}
